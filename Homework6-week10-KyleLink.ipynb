{
 "cells": [
  {
   "cell_type": "markdown",
   "id": "887761b2",
   "metadata": {},
   "source": [
    "# Homework 6 - Week 10"
   ]
  },
  {
   "cell_type": "markdown",
   "id": "fb15e1a8",
   "metadata": {},
   "source": [
    "Work for the problems is done on paper. Images are attached to the assignment as a PDF.\n",
    "\n",
    "#### Problem 1\n",
    "\n",
    "**(a)**\n",
    "You are using a Geiger counter to locate a radiation source. Moving around in the room where you believe the source is located, you are recording $50$ counts-per-minute (CPM) at one location. When you move $50 cm$ in one direction, the reading on the Geiger counter increases to $62.5 CPM$. \n",
    "\n",
    "NOTE: You can neglect any background radiation considerations for all parts. \n",
    "\n",
    "Assuming there is nothing in between you and the source, what is the distance to the source?\n",
    "\n",
    "At the point where 50 CPM was recorded, r = 250+100*$\\sqrt{5}$ or roughly 474 cm. The point where 62.5 CPM was recorded is 50 cm closer, so the distance there would be 424 cm.\n",
    "\n",
    "**(b)**\n",
    "What count rate would you measure directly from the source (estimate this by calculating the count rate at $5 cm$).\n",
    "\n",
    "For three significant figures, the answer is 449000 CPM. The attached document shows work for the unrounded numbers.\n",
    "\n",
    "**(c)**\n",
    "If you see that the distance you estimated in part one would put the source on the other side of a concrete wall, does this change your estimate of the position of the source? Would it change your estimate of the count rate you would measure right next to the source (at $5 cm$)? Taking the wall thickness to be $20 cm$, and the linear attenuation coefficient for gamma radiation through concrete to be $0.15/cm$, update your answers for parts (a) and (b) accordingly.\n",
    "\n",
    "The estimated position would not change, as both counts would have been affected by the same shielding. However, this implies a stronger source, and changes the reading we expect to get 5 cm away from the source. With the given conditions, the answer for part 1a remains the same, but the answer for part 1b becomes around 9018000 CPM."
   ]
  },
  {
   "cell_type": "markdown",
   "id": "01ad4ee5",
   "metadata": {},
   "source": [
    "#### Problem 2\n",
    "\n",
    "Remembering that the rule of thumb for counting statistics only applies to total counts, meaning you then need to propogate that uncertainty to get the uncertainty on any CPM values stated, we will now concider how uncertainties would impact our results for problem 1.\n",
    "\n",
    "**(a)**\n",
    "If the estimates for the CPM values measured at each position in the first problem were made by collecting counts over 10 minutes, what is the uncertainty on the two CPM measurements?\n",
    "\n",
    "Uncertainty for the 50 CPM measurement = $\\sqrt{5}$\n",
    "\n",
    "Uncertainty for the 62.5 CPM measurement = 2.5\n",
    "\n",
    "**(b)**\n",
    "What would be the resulting uncertainty on the distance to the source calculated in part **1.a**?\n",
    "\n",
    "NOTE 1: For $F(x) = C\\sqrt{x}$, the percent uncertainty on $F$ can be determined using $(\\frac{\\sigma_F}{F})^2 \\approx (\\frac{\\sigma_x}{2x})^2$. <br>\n",
    "NOTE 2: NOTE 1 is a good approximation even if you instead have a function that depends on $\\sqrt{x}$ in some non-linear way (e.g. $\\frac{1}{(1-\\sqrt{x})}$). <br>\n",
    "NOTE 3: Similarly, for $F = A/B$ where both $A$ and $B$ have uncertainties, $(\\frac{\\sigma_F}{F})^2 \\approx (\\frac{\\sigma_A}{A})^2 + (\\frac{\\sigma_B}{B})^2$.\n",
    "\n",
    "**(c)**\n",
    "What would be the uncertainty on your calculation of the count-rate from the source (at $5 cm$)?"
   ]
  },
  {
   "cell_type": "markdown",
   "id": "37f73f35",
   "metadata": {},
   "source": [
    "#### Problem 3\n",
    "\n",
    "Please include your lab work here - including all data plots and calculations for the attenuation coefficients for your different materials. This portion of the homework can be copied from your shared lab work."
   ]
  },
  {
   "cell_type": "markdown",
   "id": "b27e2f7a",
   "metadata": {},
   "source": [
    "Part 3 (Homework):\n",
    "1. Using a Jupyter notebook, read in all sets of data (using pandas). Include answers to any questions in your Jupyter notebook and this will be part of your homework submission\n",
    "\n",
    "2. Plot histograms of the counts from each measurement for your first source all on the same graph. How do the mean (μ) and standard deviation (σ) compare?\n",
    "a. How do the measured standard deviations compare to the theoretical uncertainty you would expect from counting statistics?\n",
    "b. What general trend do you see in the counts measured as a function of the thickness of absorber material?\n",
    "\n",
    "3. Graph the total counts measured (including uncertainties) as a function of absorber thickness for both the Al and W absorbers (on the same graph) on a log scale\n",
    "a. Note: matplotlib pyplot has an errorbar method for plotting you should use\n",
    "b. Recall the definition of uncertainties for measured counts\n",
    "\n",
    "4. Do these graphs follow the trend you expect?\n",
    "a. Calculate the absorption coefficient in both cases\n",
    "b. NOTE: there are several ways to do this – you could calculate an estimate for the coefficient comparing just two points as we did in class or you could draw a line through the data (plotted on a log scale) and estimate the slope of that line\n",
    "\n",
    "5. Do this same analysis for the second source. Do you expect the measured absorption coefficients to be the same? Why might you find differences?\n"
   ]
  },
  {
   "cell_type": "code",
   "execution_count": 3,
   "id": "864ff9c9",
   "metadata": {},
   "outputs": [],
   "source": [
    "import pandas as pd\n",
    "import csv\n",
    "import matplotlib.pyplot as plt\n",
    "import numpy as np"
   ]
  },
  {
   "cell_type": "code",
   "execution_count": 6,
   "id": "f6a5f30b",
   "metadata": {},
   "outputs": [
    {
     "ename": "FileNotFoundError",
     "evalue": "[Errno 2] No such file or directory: 'C:\\\\Users\\\\linky\\\\Downloads\\\\rad_test_noshield'",
     "output_type": "error",
     "traceback": [
      "\u001b[1;31m---------------------------------------------------------------------------\u001b[0m",
      "\u001b[1;31mFileNotFoundError\u001b[0m                         Traceback (most recent call last)",
      "Cell \u001b[1;32mIn[6], line 2\u001b[0m\n\u001b[0;32m      1\u001b[0m pathcwd \u001b[38;5;241m=\u001b[39m Path\u001b[38;5;241m.\u001b[39mcwd()\n\u001b[1;32m----> 2\u001b[0m first_noshield \u001b[38;5;241m=\u001b[39m pd\u001b[38;5;241m.\u001b[39mread_csv(pathcwd\u001b[38;5;241m/\u001b[39m\u001b[38;5;124m'\u001b[39m\u001b[38;5;124mrad_test_noshield\u001b[39m\u001b[38;5;124m'\u001b[39m)\n\u001b[0;32m      3\u001b[0m background \u001b[38;5;241m=\u001b[39m pd\u001b[38;5;241m.\u001b[39mread_csv(pathcwd\u001b[38;5;241m/\u001b[39m\u001b[38;5;124m'\u001b[39m\u001b[38;5;124mrad_test_background\u001b[39m\u001b[38;5;124m'\u001b[39m)\n\u001b[0;32m      4\u001b[0m first_al_1 \u001b[38;5;241m=\u001b[39m pd\u001b[38;5;241m.\u001b[39mread_csv(pathcwd\u001b[38;5;241m/\u001b[39m\u001b[38;5;124m'\u001b[39m\u001b[38;5;124mrad_test_AL1_1\u001b[39m\u001b[38;5;124m'\u001b[39m)\n",
      "File \u001b[1;32m~\\anaconda3\\Lib\\site-packages\\pandas\\io\\parsers\\readers.py:912\u001b[0m, in \u001b[0;36mread_csv\u001b[1;34m(filepath_or_buffer, sep, delimiter, header, names, index_col, usecols, dtype, engine, converters, true_values, false_values, skipinitialspace, skiprows, skipfooter, nrows, na_values, keep_default_na, na_filter, verbose, skip_blank_lines, parse_dates, infer_datetime_format, keep_date_col, date_parser, date_format, dayfirst, cache_dates, iterator, chunksize, compression, thousands, decimal, lineterminator, quotechar, quoting, doublequote, escapechar, comment, encoding, encoding_errors, dialect, on_bad_lines, delim_whitespace, low_memory, memory_map, float_precision, storage_options, dtype_backend)\u001b[0m\n\u001b[0;32m    899\u001b[0m kwds_defaults \u001b[38;5;241m=\u001b[39m _refine_defaults_read(\n\u001b[0;32m    900\u001b[0m     dialect,\n\u001b[0;32m    901\u001b[0m     delimiter,\n\u001b[1;32m   (...)\u001b[0m\n\u001b[0;32m    908\u001b[0m     dtype_backend\u001b[38;5;241m=\u001b[39mdtype_backend,\n\u001b[0;32m    909\u001b[0m )\n\u001b[0;32m    910\u001b[0m kwds\u001b[38;5;241m.\u001b[39mupdate(kwds_defaults)\n\u001b[1;32m--> 912\u001b[0m \u001b[38;5;28;01mreturn\u001b[39;00m _read(filepath_or_buffer, kwds)\n",
      "File \u001b[1;32m~\\anaconda3\\Lib\\site-packages\\pandas\\io\\parsers\\readers.py:577\u001b[0m, in \u001b[0;36m_read\u001b[1;34m(filepath_or_buffer, kwds)\u001b[0m\n\u001b[0;32m    574\u001b[0m _validate_names(kwds\u001b[38;5;241m.\u001b[39mget(\u001b[38;5;124m\"\u001b[39m\u001b[38;5;124mnames\u001b[39m\u001b[38;5;124m\"\u001b[39m, \u001b[38;5;28;01mNone\u001b[39;00m))\n\u001b[0;32m    576\u001b[0m \u001b[38;5;66;03m# Create the parser.\u001b[39;00m\n\u001b[1;32m--> 577\u001b[0m parser \u001b[38;5;241m=\u001b[39m TextFileReader(filepath_or_buffer, \u001b[38;5;241m*\u001b[39m\u001b[38;5;241m*\u001b[39mkwds)\n\u001b[0;32m    579\u001b[0m \u001b[38;5;28;01mif\u001b[39;00m chunksize \u001b[38;5;129;01mor\u001b[39;00m iterator:\n\u001b[0;32m    580\u001b[0m     \u001b[38;5;28;01mreturn\u001b[39;00m parser\n",
      "File \u001b[1;32m~\\anaconda3\\Lib\\site-packages\\pandas\\io\\parsers\\readers.py:1407\u001b[0m, in \u001b[0;36mTextFileReader.__init__\u001b[1;34m(self, f, engine, **kwds)\u001b[0m\n\u001b[0;32m   1404\u001b[0m     \u001b[38;5;28mself\u001b[39m\u001b[38;5;241m.\u001b[39moptions[\u001b[38;5;124m\"\u001b[39m\u001b[38;5;124mhas_index_names\u001b[39m\u001b[38;5;124m\"\u001b[39m] \u001b[38;5;241m=\u001b[39m kwds[\u001b[38;5;124m\"\u001b[39m\u001b[38;5;124mhas_index_names\u001b[39m\u001b[38;5;124m\"\u001b[39m]\n\u001b[0;32m   1406\u001b[0m \u001b[38;5;28mself\u001b[39m\u001b[38;5;241m.\u001b[39mhandles: IOHandles \u001b[38;5;241m|\u001b[39m \u001b[38;5;28;01mNone\u001b[39;00m \u001b[38;5;241m=\u001b[39m \u001b[38;5;28;01mNone\u001b[39;00m\n\u001b[1;32m-> 1407\u001b[0m \u001b[38;5;28mself\u001b[39m\u001b[38;5;241m.\u001b[39m_engine \u001b[38;5;241m=\u001b[39m \u001b[38;5;28mself\u001b[39m\u001b[38;5;241m.\u001b[39m_make_engine(f, \u001b[38;5;28mself\u001b[39m\u001b[38;5;241m.\u001b[39mengine)\n",
      "File \u001b[1;32m~\\anaconda3\\Lib\\site-packages\\pandas\\io\\parsers\\readers.py:1661\u001b[0m, in \u001b[0;36mTextFileReader._make_engine\u001b[1;34m(self, f, engine)\u001b[0m\n\u001b[0;32m   1659\u001b[0m     \u001b[38;5;28;01mif\u001b[39;00m \u001b[38;5;124m\"\u001b[39m\u001b[38;5;124mb\u001b[39m\u001b[38;5;124m\"\u001b[39m \u001b[38;5;129;01mnot\u001b[39;00m \u001b[38;5;129;01min\u001b[39;00m mode:\n\u001b[0;32m   1660\u001b[0m         mode \u001b[38;5;241m+\u001b[39m\u001b[38;5;241m=\u001b[39m \u001b[38;5;124m\"\u001b[39m\u001b[38;5;124mb\u001b[39m\u001b[38;5;124m\"\u001b[39m\n\u001b[1;32m-> 1661\u001b[0m \u001b[38;5;28mself\u001b[39m\u001b[38;5;241m.\u001b[39mhandles \u001b[38;5;241m=\u001b[39m get_handle(\n\u001b[0;32m   1662\u001b[0m     f,\n\u001b[0;32m   1663\u001b[0m     mode,\n\u001b[0;32m   1664\u001b[0m     encoding\u001b[38;5;241m=\u001b[39m\u001b[38;5;28mself\u001b[39m\u001b[38;5;241m.\u001b[39moptions\u001b[38;5;241m.\u001b[39mget(\u001b[38;5;124m\"\u001b[39m\u001b[38;5;124mencoding\u001b[39m\u001b[38;5;124m\"\u001b[39m, \u001b[38;5;28;01mNone\u001b[39;00m),\n\u001b[0;32m   1665\u001b[0m     compression\u001b[38;5;241m=\u001b[39m\u001b[38;5;28mself\u001b[39m\u001b[38;5;241m.\u001b[39moptions\u001b[38;5;241m.\u001b[39mget(\u001b[38;5;124m\"\u001b[39m\u001b[38;5;124mcompression\u001b[39m\u001b[38;5;124m\"\u001b[39m, \u001b[38;5;28;01mNone\u001b[39;00m),\n\u001b[0;32m   1666\u001b[0m     memory_map\u001b[38;5;241m=\u001b[39m\u001b[38;5;28mself\u001b[39m\u001b[38;5;241m.\u001b[39moptions\u001b[38;5;241m.\u001b[39mget(\u001b[38;5;124m\"\u001b[39m\u001b[38;5;124mmemory_map\u001b[39m\u001b[38;5;124m\"\u001b[39m, \u001b[38;5;28;01mFalse\u001b[39;00m),\n\u001b[0;32m   1667\u001b[0m     is_text\u001b[38;5;241m=\u001b[39mis_text,\n\u001b[0;32m   1668\u001b[0m     errors\u001b[38;5;241m=\u001b[39m\u001b[38;5;28mself\u001b[39m\u001b[38;5;241m.\u001b[39moptions\u001b[38;5;241m.\u001b[39mget(\u001b[38;5;124m\"\u001b[39m\u001b[38;5;124mencoding_errors\u001b[39m\u001b[38;5;124m\"\u001b[39m, \u001b[38;5;124m\"\u001b[39m\u001b[38;5;124mstrict\u001b[39m\u001b[38;5;124m\"\u001b[39m),\n\u001b[0;32m   1669\u001b[0m     storage_options\u001b[38;5;241m=\u001b[39m\u001b[38;5;28mself\u001b[39m\u001b[38;5;241m.\u001b[39moptions\u001b[38;5;241m.\u001b[39mget(\u001b[38;5;124m\"\u001b[39m\u001b[38;5;124mstorage_options\u001b[39m\u001b[38;5;124m\"\u001b[39m, \u001b[38;5;28;01mNone\u001b[39;00m),\n\u001b[0;32m   1670\u001b[0m )\n\u001b[0;32m   1671\u001b[0m \u001b[38;5;28;01massert\u001b[39;00m \u001b[38;5;28mself\u001b[39m\u001b[38;5;241m.\u001b[39mhandles \u001b[38;5;129;01mis\u001b[39;00m \u001b[38;5;129;01mnot\u001b[39;00m \u001b[38;5;28;01mNone\u001b[39;00m\n\u001b[0;32m   1672\u001b[0m f \u001b[38;5;241m=\u001b[39m \u001b[38;5;28mself\u001b[39m\u001b[38;5;241m.\u001b[39mhandles\u001b[38;5;241m.\u001b[39mhandle\n",
      "File \u001b[1;32m~\\anaconda3\\Lib\\site-packages\\pandas\\io\\common.py:859\u001b[0m, in \u001b[0;36mget_handle\u001b[1;34m(path_or_buf, mode, encoding, compression, memory_map, is_text, errors, storage_options)\u001b[0m\n\u001b[0;32m    854\u001b[0m \u001b[38;5;28;01melif\u001b[39;00m \u001b[38;5;28misinstance\u001b[39m(handle, \u001b[38;5;28mstr\u001b[39m):\n\u001b[0;32m    855\u001b[0m     \u001b[38;5;66;03m# Check whether the filename is to be opened in binary mode.\u001b[39;00m\n\u001b[0;32m    856\u001b[0m     \u001b[38;5;66;03m# Binary mode does not support 'encoding' and 'newline'.\u001b[39;00m\n\u001b[0;32m    857\u001b[0m     \u001b[38;5;28;01mif\u001b[39;00m ioargs\u001b[38;5;241m.\u001b[39mencoding \u001b[38;5;129;01mand\u001b[39;00m \u001b[38;5;124m\"\u001b[39m\u001b[38;5;124mb\u001b[39m\u001b[38;5;124m\"\u001b[39m \u001b[38;5;129;01mnot\u001b[39;00m \u001b[38;5;129;01min\u001b[39;00m ioargs\u001b[38;5;241m.\u001b[39mmode:\n\u001b[0;32m    858\u001b[0m         \u001b[38;5;66;03m# Encoding\u001b[39;00m\n\u001b[1;32m--> 859\u001b[0m         handle \u001b[38;5;241m=\u001b[39m \u001b[38;5;28mopen\u001b[39m(\n\u001b[0;32m    860\u001b[0m             handle,\n\u001b[0;32m    861\u001b[0m             ioargs\u001b[38;5;241m.\u001b[39mmode,\n\u001b[0;32m    862\u001b[0m             encoding\u001b[38;5;241m=\u001b[39mioargs\u001b[38;5;241m.\u001b[39mencoding,\n\u001b[0;32m    863\u001b[0m             errors\u001b[38;5;241m=\u001b[39merrors,\n\u001b[0;32m    864\u001b[0m             newline\u001b[38;5;241m=\u001b[39m\u001b[38;5;124m\"\u001b[39m\u001b[38;5;124m\"\u001b[39m,\n\u001b[0;32m    865\u001b[0m         )\n\u001b[0;32m    866\u001b[0m     \u001b[38;5;28;01melse\u001b[39;00m:\n\u001b[0;32m    867\u001b[0m         \u001b[38;5;66;03m# Binary mode\u001b[39;00m\n\u001b[0;32m    868\u001b[0m         handle \u001b[38;5;241m=\u001b[39m \u001b[38;5;28mopen\u001b[39m(handle, ioargs\u001b[38;5;241m.\u001b[39mmode)\n",
      "\u001b[1;31mFileNotFoundError\u001b[0m: [Errno 2] No such file or directory: 'C:\\\\Users\\\\linky\\\\Downloads\\\\rad_test_noshield'"
     ]
    }
   ],
   "source": [
    "first_noshield = pd.read_csv('rad_test_noshield')\n",
    "background = pd.read_csv('rad_test_background')\n",
    "first_al_1 = pd.read_csv('rad_test_AL1_1')\n",
    "first_al_2 = pd.read_csv('rad_test_AL2_1')\n",
    "first_al_3 = pd.read_csv('rad_test_AL3_1')\n",
    "first_al_4 = pd.read_csv('rad_test_AL4')"
   ]
  },
  {
   "cell_type": "code",
   "execution_count": null,
   "id": "73c0b4a0",
   "metadata": {},
   "outputs": [],
   "source": []
  }
 ],
 "metadata": {
  "kernelspec": {
   "display_name": "Python 3 (ipykernel)",
   "language": "python",
   "name": "python3"
  },
  "language_info": {
   "codemirror_mode": {
    "name": "ipython",
    "version": 3
   },
   "file_extension": ".py",
   "mimetype": "text/x-python",
   "name": "python",
   "nbconvert_exporter": "python",
   "pygments_lexer": "ipython3",
   "version": "3.11.5"
  }
 },
 "nbformat": 4,
 "nbformat_minor": 5
}
